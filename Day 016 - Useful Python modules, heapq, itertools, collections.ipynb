{
 "cells": [
  {
   "cell_type": "markdown",
   "metadata": {},
   "source": [
    "# Day 16 of 100"
   ]
  },
  {
   "cell_type": "markdown",
   "metadata": {},
   "source": [
    "## Notes"
   ]
  },
  {
   "cell_type": "markdown",
   "metadata": {},
   "source": [
    "heapq:\n",
    "    \n",
    "    - Heap queue, or also known as priority queue, import heapq enables lists to have priorities.\n",
    "    - In Python we can find n smallest or n largest elements in a list. If it's a list of dictionaries, the ordering key need to be specified."
   ]
  },
  {
   "cell_type": "code",
   "execution_count": 2,
   "metadata": {},
   "outputs": [
    {
     "name": "stdout",
     "output_type": "stream",
     "text": [
      "[99, 92, 88]\n",
      "[12, 25, 34]\n",
      "[{'name': 'AAPL', 'shares': 50, 'price': 543.22}, {'name': 'ACME', 'shares': 75, 'price': 115.65}]\n",
      "[{'name': 'FB', 'shares': 200, 'price': 21.09}, {'name': 'IBM', 'shares': 100, 'price': 91.1}]\n"
     ]
    }
   ],
   "source": [
    "import heapq\n",
    "\n",
    "list1 = [34, 25, 12, 99, 87, 63, 58, 78, 88, 92]\n",
    "list2 = [\n",
    "    {'name': 'IBM', 'shares': 100, 'price': 91.1},\n",
    "    {'name': 'AAPL', 'shares': 50, 'price': 543.22},\n",
    "    {'name': 'FB', 'shares': 200, 'price': 21.09},\n",
    "    {'name': 'HPQ', 'shares': 35, 'price': 31.75},\n",
    "    {'name': 'YHOO', 'shares': 45, 'price': 16.35},\n",
    "    {'name': 'ACME', 'shares': 75, 'price': 115.65}\n",
    "]\n",
    "\n",
    "print(heapq.nlargest(3, list1))\n",
    "print(heapq.nsmallest(3, list1))\n",
    "print(heapq.nlargest(2, list2, key=lambda x: x['price']))\n",
    "print(heapq.nlargest(2, list2, key=lambda x: x['shares']))"
   ]
  },
  {
   "cell_type": "markdown",
   "metadata": {},
   "source": [
    "itertools:\n",
    "    \n",
    "    - A library designed for generating iterative processes.\n",
    "    - Note, the result is a class in itertools, we need to loop within it to see the elements."
   ]
  },
  {
   "cell_type": "code",
   "execution_count": 8,
   "metadata": {},
   "outputs": [
    {
     "name": "stdout",
     "output_type": "stream",
     "text": [
      "('A', 'B', 'C')\n",
      "('A', 'C', 'B')\n",
      "('B', 'A', 'C')\n",
      "('B', 'C', 'A')\n",
      "('C', 'A', 'B')\n",
      "('C', 'B', 'A')\n",
      "\n",
      "\n",
      "('A', '1')\n",
      "('A', '2')\n",
      "('A', '3')\n",
      "('B', '1')\n",
      "('B', '2')\n",
      "('B', '3')\n",
      "('C', '1')\n",
      "('C', '2')\n",
      "('C', '3')\n"
     ]
    }
   ],
   "source": [
    "import itertools\n",
    "\n",
    "# Generate permutations of ABC.\n",
    "perm = itertools.permutations('ABC')\n",
    "for x in perm:\n",
    "    print(x)\n",
    "    \n",
    "print('\\n')    \n",
    "\n",
    "# Generate the cartesian product between 'ABC' and '123'.\n",
    "cartesian = itertools.product('ABC', '123')\n",
    "for y in cartesian:\n",
    "    print(y)"
   ]
  },
  {
   "cell_type": "markdown",
   "metadata": {},
   "source": [
    "collections:\n",
    "    \n",
    "    - A module specialized container datatypes providing alternatives to Python's general purpose built-in containers: dict, list, set,and tuple.\n",
    "    - Some examples are ChainMap, Counter, OrderedDict."
   ]
  },
  {
   "cell_type": "code",
   "execution_count": 9,
   "metadata": {},
   "outputs": [
    {
     "name": "stdout",
     "output_type": "stream",
     "text": [
      "[('eyes', 8), ('the', 5), ('look', 4)]\n"
     ]
    }
   ],
   "source": [
    "\"\"\"\n",
    "Find top 3 most common element in a list.\n",
    "\"\"\"\n",
    "from collections import Counter\n",
    "\n",
    "words = [\n",
    "    'look', 'into', 'my', 'eyes', 'look', 'into', 'my', 'eyes',\n",
    "    'the', 'eyes', 'the', 'eyes', 'the', 'eyes', 'not', 'around',\n",
    "    'the', 'eyes', \"don't\", 'look', 'around', 'the', 'eyes',\n",
    "    'look', 'into', 'my', 'eyes', \"you're\", 'under'\n",
    "]\n",
    "counter = Counter(words)\n",
    "print(counter.most_common(3))"
   ]
  }
 ],
 "metadata": {
  "kernelspec": {
   "display_name": "Python 3",
   "language": "python",
   "name": "python3"
  },
  "language_info": {
   "codemirror_mode": {
    "name": "ipython",
    "version": 3
   },
   "file_extension": ".py",
   "mimetype": "text/x-python",
   "name": "python",
   "nbconvert_exporter": "python",
   "pygments_lexer": "ipython3",
   "version": "3.7.6"
  }
 },
 "nbformat": 4,
 "nbformat_minor": 4
}
