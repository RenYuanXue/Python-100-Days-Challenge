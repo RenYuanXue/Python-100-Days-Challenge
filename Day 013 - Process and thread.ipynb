{
 "cells": [
  {
   "cell_type": "markdown",
   "metadata": {},
   "source": [
    "# Day 13 of 100"
   ]
  },
  {
   "cell_type": "markdown",
   "metadata": {},
   "source": [
    "## Notes"
   ]
  },
  {
   "cell_type": "markdown",
   "metadata": {},
   "source": [
    "Multiprocessing in Python:\n",
    "    \n",
    "    - We can run multiple tasks at the same time using library multiprocessing.\n",
    "    - Doesn't work in some IDEs."
   ]
  },
  {
   "cell_type": "code",
   "execution_count": 20,
   "metadata": {},
   "outputs": [
    {
     "name": "stdout",
     "output_type": "stream",
     "text": [
      "A total of 0.12 seconds.\n",
      "This Code doesn't work in Jupyter Notebook.\n"
     ]
    }
   ],
   "source": [
    "from random import randint\n",
    "from time import time, sleep\n",
    "from multiprocessing import Process\n",
    "from os import getpid\n",
    "\n",
    "\n",
    "def multi_download_task(filename):\n",
    "    print('Start downloading process, number [%d]' % getpid())\n",
    "    print('Start downloading %s...' % filename)\n",
    "    time_to_download = randint(1, 5)\n",
    "    sleep(time_to_download)\n",
    "    print('%s finishes downloading, it takes %d seconds' % (filename, time_to_download))\n",
    "    \n",
    "def main():\n",
    "    start = time()\n",
    "    p1 = Process(target=multi_download_task, args=('Python cookbook.pdf', ))\n",
    "    p1.start()\n",
    "    p2 = Process(target=multi_download_task, args=('Jupyter notebook.exe', ))\n",
    "    p2.start()\n",
    "    p1.join()\n",
    "    p2.join()\n",
    "    end = time()\n",
    "    print('A total of %.2f seconds.' % (end - start))\n",
    "\n",
    "\n",
    "if __name__ == '__main__':\n",
    "    main()\n",
    "    print(\"This Code doesn't work in Jupyter Notebook.\")"
   ]
  },
  {
   "cell_type": "markdown",
   "metadata": {},
   "source": [
    "Multiprocessing in Python:\n",
    "    \n",
    "    - We can inherit class Thread to our own task class.\n",
    "    - Works fine in Jupyter Notebook."
   ]
  },
  {
   "cell_type": "code",
   "execution_count": 23,
   "metadata": {},
   "outputs": [
    {
     "name": "stdout",
     "output_type": "stream",
     "text": [
      "Start downloading Python cookbook.pdf...\n",
      "Start downloading Jupyter notebook.exe...\n",
      "Python cookbook.pdf finishes downloading, it takes 2 seconds.\n",
      "Jupyter notebook.exe finishes downloading, it takes 2 seconds.\n",
      "It takes 2.01 seconds.\n"
     ]
    }
   ],
   "source": [
    "from random import randint\n",
    "from threading import Thread\n",
    "from time import time, sleep\n",
    "\n",
    "\n",
    "class DownloadTask(Thread):\n",
    "\n",
    "    def __init__(self, filename):\n",
    "        super().__init__()\n",
    "        self._filename = filename\n",
    "\n",
    "    def run(self):\n",
    "        print('Start downloading %s...' % self._filename)\n",
    "        time_to_download = randint(1, 5)\n",
    "        sleep(time_to_download)\n",
    "        print('%s finishes downloading, it takes %d seconds.' % (self._filename, time_to_download))\n",
    "\n",
    "\n",
    "def main():\n",
    "    start = time()\n",
    "    t1 = DownloadTask('Python cookbook.pdf')\n",
    "    t1.start()\n",
    "    t2 = DownloadTask('Jupyter notebook.exe')\n",
    "    t2.start()\n",
    "    t1.join()\n",
    "    t2.join()\n",
    "    end = time()\n",
    "    print('It takes %.2f seconds.' % (end - start))\n",
    "\n",
    "\n",
    "if __name__ == '__main__':\n",
    "    main()"
   ]
  },
  {
   "cell_type": "markdown",
   "metadata": {},
   "source": [
    "Since multiple threads share process memory, it's easy to communicate between them. However, we need to be careful because without protection, it's very easy to go wrong."
   ]
  },
  {
   "cell_type": "code",
   "execution_count": 31,
   "metadata": {},
   "outputs": [
    {
     "name": "stdout",
     "output_type": "stream",
     "text": [
      "Account Total: 2 dollars\n"
     ]
    }
   ],
   "source": [
    "from time import sleep\n",
    "from threading import Thread\n",
    "\n",
    "\n",
    "class Account(object):\n",
    "\n",
    "    def __init__(self):\n",
    "        self._balance = 0\n",
    "\n",
    "    def deposit(self, money):\n",
    "        # Calculate new balance\n",
    "        new_balance = self._balance + money\n",
    "        # It takes 0.01 second to finish this process.\n",
    "        sleep(0.01)\n",
    "        # Modify account balance.\n",
    "        self._balance = new_balance\n",
    "\n",
    "    @property\n",
    "    def balance(self):\n",
    "        return self._balance\n",
    "\n",
    "\n",
    "class AddMoneyThread(Thread):\n",
    "\n",
    "    def __init__(self, account, money):\n",
    "        super().__init__()\n",
    "        self._account = account\n",
    "        self._money = money\n",
    "\n",
    "    def run(self):\n",
    "        self._account.deposit(self._money)\n",
    "\n",
    "\n",
    "def main():\n",
    "    account = Account()\n",
    "    threads = []\n",
    "    # Create 100 threads to deposite money.\n",
    "    for _ in range(100):\n",
    "        t = AddMoneyThread(account, 1)\n",
    "        threads.append(t)\n",
    "        t.start()\n",
    "    # Wait until all threads are completed and find total.\n",
    "    for t in threads:\n",
    "        t.join()\n",
    "    print('Account Total: %d dollars.' % account.balance)\n",
    "\n",
    "\n",
    "if __name__ == '__main__':\n",
    "    main()"
   ]
  },
  {
   "cell_type": "markdown",
   "metadata": {},
   "source": [
    "Multiple threads added 1 to 0, therefore when calculating the total, it doesn't show the account total properly. \n",
    "\n",
    "The bank account is called critical resource which needs to be protected properly in order for the code to work."
   ]
  },
  {
   "cell_type": "code",
   "execution_count": 32,
   "metadata": {},
   "outputs": [
    {
     "name": "stdout",
     "output_type": "stream",
     "text": [
      "Account Total: 100 dollars\n"
     ]
    }
   ],
   "source": [
    "from time import sleep\n",
    "from threading import Thread, Lock\n",
    "\n",
    "\n",
    "class Account(object):\n",
    "\n",
    "    def __init__(self):\n",
    "        self._balance = 0\n",
    "        self._lock = Lock()\n",
    "\n",
    "    def deposit(self, money):\n",
    "        # Get lock and then continue.\n",
    "        self._lock.acquire()\n",
    "        try:\n",
    "            # Calculate new balance\n",
    "            new_balance = self._balance + money\n",
    "            # It takes 0.01 second to finish this process.\n",
    "            sleep(0.01)\n",
    "            # Modify account balance.\n",
    "            self._balance = new_balance\n",
    "        finally:\n",
    "            # Release the key.\n",
    "            self._lock.release()\n",
    "            \n",
    "    @property\n",
    "    def balance(self):\n",
    "        return self._balance\n",
    "\n",
    "\n",
    "class AddMoneyThread(Thread):\n",
    "\n",
    "    def __init__(self, account, money):\n",
    "        super().__init__()\n",
    "        self._account = account\n",
    "        self._money = money\n",
    "\n",
    "    def run(self):\n",
    "        self._account.deposit(self._money)\n",
    "\n",
    "\n",
    "def main():\n",
    "    account = Account()\n",
    "    threads = []\n",
    "    # Create 100 threads to deposite money.\n",
    "    for _ in range(100):\n",
    "        t = AddMoneyThread(account, 1)\n",
    "        threads.append(t)\n",
    "        t.start()\n",
    "    # Wait until all threads are completed and find total.\n",
    "    for t in threads:\n",
    "        t.join()\n",
    "    print('Account Total: %d dollars.' % account.balance)\n",
    "\n",
    "\n",
    "if __name__ == '__main__':\n",
    "    main()"
   ]
  }
 ],
 "metadata": {
  "kernelspec": {
   "display_name": "Python 3",
   "language": "python",
   "name": "python3"
  },
  "language_info": {
   "codemirror_mode": {
    "name": "ipython",
    "version": 3
   },
   "file_extension": ".py",
   "mimetype": "text/x-python",
   "name": "python",
   "nbconvert_exporter": "python",
   "pygments_lexer": "ipython3",
   "version": "3.7.6"
  }
 },
 "nbformat": 4,
 "nbformat_minor": 4
}
