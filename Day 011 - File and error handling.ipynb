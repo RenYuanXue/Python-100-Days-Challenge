{
 "cells": [
  {
   "cell_type": "markdown",
   "metadata": {},
   "source": [
    "# Day 11 of 100"
   ]
  },
  {
   "cell_type": "markdown",
   "metadata": {},
   "source": [
    "## Notes"
   ]
  },
  {
   "cell_type": "markdown",
   "metadata": {},
   "source": [
    "Reading/Writing:\n",
    "    \n",
    "    - Use Python function \"open\".\n",
    "    - There are several options: 'r', 'w', 'x', 'a', 'b', 't' and '+'. Default is 'r'.\n",
    "    - Different encodings can be specified using 'encoding' parameter. Default = None, the same encoding as operating system. Will return error if the encoding specified isn't same as the file."
   ]
  },
  {
   "cell_type": "markdown",
   "metadata": {},
   "source": [
    "Try Except:\n",
    "\n",
    "    - Code may result in errors can be put inside try.\n",
    "    - When some specific error arises, using except + error type, we can handle the errors.\n",
    "    - Regardless the code is running fine or not, code in 'Finally' will be executed. It's also called akwats execute code, therefore it's best for freeing memories.\n",
    "    - More details in https://segmentfault.com/a/1190000007736783."
   ]
  },
  {
   "cell_type": "code",
   "execution_count": 4,
   "metadata": {},
   "outputs": [
    {
     "name": "stdout",
     "output_type": "stream",
     "text": [
      "Can't open the file\n"
     ]
    }
   ],
   "source": [
    "def main():\n",
    "    f = None\n",
    "    try:\n",
    "        # with open('demo.txt', 'r', encoding='utf-8') as f:\n",
    "        # This will free the memory automatically without f.close().\n",
    "        f = open('demo.txt', 'r', encoding='utf-8')\n",
    "        print(f.read())\n",
    "    except FileNotFoundError:\n",
    "        print(\"Can't open the file\")\n",
    "    except LookupError:\n",
    "        print('Unknown Encoding!')\n",
    "    except UnicodeDecodeError:\n",
    "        print('Wrong encoding when reading the files!')\n",
    "    finally:\n",
    "        if f:\n",
    "            f.close()\n",
    "\n",
    "if __name__ == '__main__':\n",
    "    main()"
   ]
  },
  {
   "cell_type": "markdown",
   "metadata": {},
   "source": [
    "There are several ways to read a file. In particular:"
   ]
  },
  {
   "cell_type": "code",
   "execution_count": null,
   "metadata": {},
   "outputs": [],
   "source": [
    "# Use 'for', 'in' to read the text file line by line.\n",
    "with open('demp.txt', mode='r') as f:\n",
    "    for line in f:\n",
    "        print(line, end='')\n",
    "        time.sleep(0.5)\n",
    "print()\n",
    "\n",
    "# Read the file line by line and save to a list.\n",
    "with open('demo.txt') as f:\n",
    "    lines = f.readlines()\n",
    "print(lines)"
   ]
  },
  {
   "cell_type": "markdown",
   "metadata": {},
   "source": [
    "Read binary file (add b to reading/writing):"
   ]
  },
  {
   "cell_type": "code",
   "execution_count": 5,
   "metadata": {},
   "outputs": [
    {
     "name": "stdout",
     "output_type": "stream",
     "text": [
      "Can't open the file\n",
      "End of script.\n"
     ]
    }
   ],
   "source": [
    "def main():\n",
    "    try:\n",
    "        with open('exercise.jpg', 'rb') as fs1:\n",
    "            data = fs1.read()\n",
    "            print(type(data))  # <class 'bytes'>\n",
    "        with open('exercise.jpg', 'wb') as fs2:\n",
    "            fs2.write(data)\n",
    "    except FileNotFoundError as e:\n",
    "        print(\"Can't open the file\")\n",
    "    except IOError as e:\n",
    "        print('Error when trying to write to the file.')\n",
    "    print('End of script.')\n",
    "\n",
    "if __name__ == '__main__':\n",
    "    main()"
   ]
  },
  {
   "cell_type": "markdown",
   "metadata": {},
   "source": [
    "Json\n",
    "\n",
    "    - Can be used to store dictionary / list as .json file.\n",
    "    - 4 important functions: \n",
    "        - 'dump': serialize python object using json format into the file.\n",
    "        - 'dumps': process python object as json bytes.\n",
    "        - 'load': deserialize json data in file to objects.\n",
    "        - 'loads': deserialize byte information to python object.\n",
    "\n",
    "Can also use pickle and shelve modules to serialize data."
   ]
  }
 ],
 "metadata": {
  "kernelspec": {
   "display_name": "Python 3",
   "language": "python",
   "name": "python3"
  },
  "language_info": {
   "codemirror_mode": {
    "name": "ipython",
    "version": 3
   },
   "file_extension": ".py",
   "mimetype": "text/x-python",
   "name": "python",
   "nbconvert_exporter": "python",
   "pygments_lexer": "ipython3",
   "version": "3.7.6"
  }
 },
 "nbformat": 4,
 "nbformat_minor": 4
}
