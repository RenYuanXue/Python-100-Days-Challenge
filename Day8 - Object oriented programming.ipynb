{
 "cells": [
  {
   "cell_type": "markdown",
   "metadata": {},
   "source": [
    "# Day 8 of 100"
   ]
  },
  {
   "cell_type": "markdown",
   "metadata": {},
   "source": [
    "## Notes"
   ]
  },
  {
   "cell_type": "markdown",
   "metadata": {},
   "source": [
    "Private attributes:\n",
    "    \n",
    "    - For attributes in class, if want a particular attribute to be private, put __ in front of the attribute.\n",
    "    For example, self.foo -> self.__foo. \n",
    "    Technically, putting __ doesn't guarantee the private protection, it just changes a name to prevent access from the user. But if the user knows the naming rules, they still can access."
   ]
  },
  {
   "cell_type": "code",
   "execution_count": 1,
   "metadata": {},
   "outputs": [
    {
     "name": "stdout",
     "output_type": "stream",
     "text": [
      "hello\n",
      "__bar\n",
      "hello\n"
     ]
    }
   ],
   "source": [
    "class Test:\n",
    "\n",
    "    def __init__(self, foo):\n",
    "        self.__foo = foo\n",
    "\n",
    "    def __bar(self):\n",
    "        print(self.__foo)\n",
    "        print('__bar')\n",
    "\n",
    "\n",
    "def main():\n",
    "    test = Test('hello')\n",
    "    # Call __bar\n",
    "    test._Test__bar()\n",
    "    # Prints private attribute foo\n",
    "    print(test._Test__foo)\n",
    "\n",
    "if __name__ == \"__main__\":\n",
    "    main()"
   ]
  },
  {
   "cell_type": "markdown",
   "metadata": {},
   "source": [
    "Protected attributes:\n",
    "\n",
    "    - Or, can use _ instead __ in front of attributes to indicate the attribute is protected.\n",
    "    - It is more commonly used since private attributes will result in denied access to subclass."
   ]
  },
  {
   "cell_type": "markdown",
   "metadata": {},
   "source": [
    "In this chapter, we introduced attributes in classes. Once the object is created, the user just need to understand the functions in order to execute the code. They can have as little knowledge as possible, and we can hide as much details in implementation as possible."
   ]
  },
  {
   "cell_type": "markdown",
   "metadata": {},
   "source": [
    "## Exercise"
   ]
  },
  {
   "cell_type": "markdown",
   "metadata": {},
   "source": [
    "Define a class object clock:"
   ]
  },
  {
   "cell_type": "code",
   "execution_count": 7,
   "metadata": {},
   "outputs": [
    {
     "name": "stdout",
     "output_type": "stream",
     "text": [
      "The current time is 23 hour 59 minute and 59 second\n",
      "The current time is 0 hour 0 minute and 0 second\n"
     ]
    }
   ],
   "source": [
    "from time import sleep\n",
    "\n",
    "class Clock():\n",
    "    \n",
    "    def __init__(self, hour = 0, minute = 0, second = 0):\n",
    "        self._hour = hour\n",
    "        self._minute = minute\n",
    "        self._second = second\n",
    "        \n",
    "    def run(self):\n",
    "        self._second += 1\n",
    "        if self._second == 60:\n",
    "            self._second = 0\n",
    "            self._minute += 1\n",
    "            if self._minute == 60:\n",
    "                self._minute = 0\n",
    "                self._hour += 1\n",
    "                if self._hour == 24:\n",
    "                    self._hour = 0\n",
    "    \n",
    "    def show(self):\n",
    "        # Use return instead of print. Otherwise, it's going to return None if not specified.\n",
    "        return('The current time is %d hour %d minute and %d second' % (self._hour, self._minute, self._second))\n",
    "\n",
    "def main():\n",
    "    clock = Clock(23, 59, 59)\n",
    "    print(clock.show())\n",
    "    sleep(1)\n",
    "    clock.run()\n",
    "    print(clock.show())\n",
    "    \n",
    "if __name__ == '__main__':\n",
    "    main()"
   ]
  }
 ],
 "metadata": {
  "kernelspec": {
   "display_name": "Python 3",
   "language": "python",
   "name": "python3"
  },
  "language_info": {
   "codemirror_mode": {
    "name": "ipython",
    "version": 3
   },
   "file_extension": ".py",
   "mimetype": "text/x-python",
   "name": "python",
   "nbconvert_exporter": "python",
   "pygments_lexer": "ipython3",
   "version": "3.7.6"
  }
 },
 "nbformat": 4,
 "nbformat_minor": 4
}
