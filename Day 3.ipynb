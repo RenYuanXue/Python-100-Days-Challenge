{
 "cells": [
  {
   "cell_type": "markdown",
   "metadata": {},
   "source": [
    "# Day 3 of 100"
   ]
  },
  {
   "cell_type": "markdown",
   "metadata": {},
   "source": [
    "## Notes"
   ]
  },
  {
   "cell_type": "markdown",
   "metadata": {},
   "source": [
    "usage of if statements:\n",
    "    \n",
    "    - combine with \"else\" and \"elif\", can be nested\n",
    "    - however, it's worth noting, in Zen of Python: \"Flat is better than Nested\",\n",
    "      therefore when implementing if statements, need to be careful."
   ]
  },
  {
   "cell_type": "markdown",
   "metadata": {},
   "source": [
    "## Exercise"
   ]
  },
  {
   "cell_type": "markdown",
   "metadata": {},
   "source": [
    "Conversion between Imperial units and International System of Units:"
   ]
  },
  {
   "cell_type": "code",
   "execution_count": 5,
   "metadata": {},
   "outputs": [
    {
     "name": "stdout",
     "output_type": "stream",
     "text": [
      "The length = 10\n",
      "The unit for the length is is\n",
      "'is' is not valid unit\n"
     ]
    }
   ],
   "source": [
    "length = float(input('The length = '))\n",
    "unit = str(input('The unit for the length is '))\n",
    "if unit == 'cm':\n",
    "    print('%f cm = %f in' % (length, length / 2.54))\n",
    "elif unit == 'in':\n",
    "    print('%f in = %f cm' % (length, length * 2.54))\n",
    "else:\n",
    "    print(\"'\" + unit + \"'\" + ' is not valid unit')"
   ]
  },
  {
   "cell_type": "markdown",
   "metadata": {},
   "source": [
    "Conversion from hundred mark system to A-F scales:"
   ]
  },
  {
   "cell_type": "code",
   "execution_count": 8,
   "metadata": {},
   "outputs": [
    {
     "name": "stdout",
     "output_type": "stream",
     "text": [
      "Out of 100, you got 80\n",
      "The equivalent of your mark 80.000000 is B\n"
     ]
    }
   ],
   "source": [
    "mark = int(input('Out of 100, you got '))\n",
    "if mark >= 90:\n",
    "    grade = 'A'\n",
    "elif mark >= 80:\n",
    "    grade = 'B'\n",
    "elif mark >= 70:\n",
    "    grade = 'C'\n",
    "elif mark >- 60:\n",
    "    grade = 'D'\n",
    "else:\n",
    "    grade = 'E'\n",
    "print('The equivalent of your mark %f is ' % (mark) + grade)"
   ]
  },
  {
   "cell_type": "markdown",
   "metadata": {},
   "source": [
    "Input 3 lengths, see if it can form a triangle (if yes, find area and perimeter):"
   ]
  },
  {
   "cell_type": "code",
   "execution_count": 11,
   "metadata": {},
   "outputs": [
    {
     "name": "stdout",
     "output_type": "stream",
     "text": [
      "Enter first length:  3\n",
      "Enter second length: 4\n",
      "Enter third length:  5\n",
      "Perimeter = 12.000000\n",
      "Area: 6.000000\n"
     ]
    }
   ],
   "source": [
    "a = float(input('Enter first length:  '))\n",
    "b = float(input('Enter second length: '))\n",
    "c = float(input('Enter third length:  '))\n",
    "\n",
    "if a + b > c and a + c > b and b + c > a:\n",
    "    print('Perimeter = %f' % (a + b + c))\n",
    "    p = (a + b + c) / 2\n",
    "    # Heron's formula.\n",
    "    area = (p * (p - a) * (p - b) * (p - c)) ** 0.5\n",
    "    print('Area: %f' % (area))\n",
    "else:\n",
    "    print(\"The three lengths can not form a triangle\")"
   ]
  },
  {
   "cell_type": "code",
   "execution_count": null,
   "metadata": {},
   "outputs": [],
   "source": []
  }
 ],
 "metadata": {
  "kernelspec": {
   "display_name": "Python 3",
   "language": "python",
   "name": "python3"
  },
  "language_info": {
   "codemirror_mode": {
    "name": "ipython",
    "version": 3
   },
   "file_extension": ".py",
   "mimetype": "text/x-python",
   "name": "python",
   "nbconvert_exporter": "python",
   "pygments_lexer": "ipython3",
   "version": "3.7.6"
  }
 },
 "nbformat": 4,
 "nbformat_minor": 4
}
