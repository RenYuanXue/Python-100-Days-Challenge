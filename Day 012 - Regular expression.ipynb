{
 "cells": [
  {
   "cell_type": "markdown",
   "metadata": {},
   "source": [
    "# Day 12 of 100"
   ]
  },
  {
   "cell_type": "markdown",
   "metadata": {},
   "source": [
    "## Notes"
   ]
  },
  {
   "cell_type": "markdown",
   "metadata": {},
   "source": [
    "30 minutes tutorial of regular expression: https://deerchao.cn/tutorials/regex/regex.htm"
   ]
  },
  {
   "cell_type": "markdown",
   "metadata": {},
   "source": [
    "Regular expression:\n",
    "    \n",
    "    - If the string pattern contains one of the placeholders in regular expression, \n",
    "    use \\ + placeholder to capture the special string.\n",
    "    - Module \"Re\" in Python supports regular expressions.\n",
    "    - For Crawling purposes, can use modules \"Beautiful Soup\" and \"Lxml\"."
   ]
  },
  {
   "cell_type": "markdown",
   "metadata": {},
   "source": [
    "## Exercise"
   ]
  },
  {
   "cell_type": "markdown",
   "metadata": {},
   "source": [
    "Verify username and password and return corresponding notification\n",
    "1. Username must be characters, numbers or underline and length between 6-20 characters.\n",
    "2. Pssword must be numbers of length 5 - 12, and first number can't be 0."
   ]
  },
  {
   "cell_type": "code",
   "execution_count": 2,
   "metadata": {},
   "outputs": [
    {
     "name": "stdout",
     "output_type": "stream",
     "text": [
      "Please enter username: 123456\n",
      "Please enter password: 123456\n",
      "Valid information!\n"
     ]
    }
   ],
   "source": [
    "import re\n",
    "\n",
    "# Notice in the expression, r is added to the string.\n",
    "# Otherwise, a lot of placeholders are needed.\n",
    "# Therefore, for clarity and readability, r added.\n",
    "\n",
    "def main():\n",
    "    username = input('Please enter username: ')\n",
    "    password = input('Please enter password: ')\n",
    "    # Function match, first parameter is regular expression,\n",
    "    # second is the string want to match with.\n",
    "    m1 = re.match(r'^[0-9a-zA-Z_]{6,20}$', username)\n",
    "    if not m1:\n",
    "        print('Please enter valid username.')\n",
    "    m2 = re.match(r'^[1-9]\\d{4,11}$', password)\n",
    "    if not m2:\n",
    "        print('Please enter valid password.')\n",
    "    if m1 and m2:\n",
    "        print('Valid information!')\n",
    "\n",
    "if __name__ == '__main__':\n",
    "    main()"
   ]
  },
  {
   "cell_type": "markdown",
   "metadata": {},
   "source": [
    "Split long strings:"
   ]
  },
  {
   "cell_type": "code",
   "execution_count": 7,
   "metadata": {},
   "outputs": [
    {
     "name": "stdout",
     "output_type": "stream",
     "text": [
      "Had I not seen the sun\n",
      "I could have borne the shade\n",
      "But Light a newer Wilderness\n",
      "My Wilderness has made\n"
     ]
    }
   ],
   "source": [
    "import re\n",
    "\n",
    "def main():\n",
    "    poem = 'Had I not seen the sun,I could have borne the shade,But Light a newer Wilderness,My Wilderness has made.'\n",
    "    sentence_list = re.split(r'[,.]', poem)\n",
    "    while '' in sentence_list:\n",
    "        sentence_list.remove('')\n",
    "    for sentence in sentence_list:\n",
    "        print(sentence)\n",
    "        \n",
    "if __name__ == '__main__':\n",
    "    main()"
   ]
  }
 ],
 "metadata": {
  "kernelspec": {
   "display_name": "Python 3",
   "language": "python",
   "name": "python3"
  },
  "language_info": {
   "codemirror_mode": {
    "name": "ipython",
    "version": 3
   },
   "file_extension": ".py",
   "mimetype": "text/x-python",
   "name": "python",
   "nbconvert_exporter": "python",
   "pygments_lexer": "ipython3",
   "version": "3.7.6"
  }
 },
 "nbformat": 4,
 "nbformat_minor": 4
}
