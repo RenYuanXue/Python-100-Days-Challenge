{
 "cells": [
  {
   "cell_type": "markdown",
   "metadata": {},
   "source": [
    "# Day 6 of 100"
   ]
  },
  {
   "cell_type": "markdown",
   "metadata": {},
   "source": [
    "## Notes"
   ]
  },
  {
   "cell_type": "markdown",
   "metadata": {},
   "source": [
    "Function:\n",
    "    \n",
    "    - Define a function when it's repeatedly used in the code. Repetitivity is the worst.\n",
    "    - Values for variable sending into the functions can be pre-determined (default value).\n",
    "    - also, can use *args as variables, the number of variables are not limited."
   ]
  },
  {
   "cell_type": "code",
   "execution_count": 5,
   "metadata": {},
   "outputs": [
    {
     "name": "stdout",
     "output_type": "stream",
     "text": [
      "1\n",
      "3\n",
      "6\n"
     ]
    }
   ],
   "source": [
    "def add(*args):\n",
    "    total = 0\n",
    "    # No pointer when calling args\n",
    "    for val in args:\n",
    "        total += val\n",
    "    return total\n",
    "\n",
    "print(add(1))\n",
    "print(add(1, 2))\n",
    "print(add(1, 2, 3))"
   ]
  },
  {
   "cell_type": "markdown",
   "metadata": {},
   "source": [
    "Module:\n",
    "    \n",
    "    - If define two same functions in one module, then the latter one will overwrite the earlier one.\n",
    "      Therefore, when importing module, we can name them differently.\n",
    "    - Also, if there are script need to be executed in the original script. If not addressed, when importing the module, the script will be executed. Therefore, need to use __name__ to address it. \"__name__\" is the hidden attribute for each .py file."
   ]
  },
  {
   "cell_type": "markdown",
   "metadata": {},
   "source": [
    "Global and local variable:\n",
    "    \n",
    "    - Avoid using global variable, may result in uncontrolled outcome.\n",
    "    - By writting \"Global a\" in the function, we can modify the value of global variable a."
   ]
  },
  {
   "cell_type": "markdown",
   "metadata": {},
   "source": [
    "## Exercise"
   ]
  },
  {
   "cell_type": "markdown",
   "metadata": {},
   "source": [
    "Define two functions for GCD and LCM:"
   ]
  },
  {
   "cell_type": "code",
   "execution_count": 32,
   "metadata": {},
   "outputs": [
    {
     "name": "stdout",
     "output_type": "stream",
     "text": [
      "1\n",
      "10\n",
      "2\n",
      "14\n"
     ]
    }
   ],
   "source": [
    "from math import sqrt\n",
    "\n",
    "def GCD(x, y):\n",
    "    gcd = 1\n",
    "    for i in range(1, min(x, y) + 1):\n",
    "        if x % i == 0 and y % i == 0:\n",
    "            gcd = i\n",
    "    return gcd\n",
    "\n",
    "def LCM(x, y):\n",
    "    lcm = x * y\n",
    "    for j in range(x * y, max(x, y) - 1, -1):\n",
    "        if j % x == 0 and j % y == 0:\n",
    "            lcm = j\n",
    "    return lcm\n",
    "\n",
    "print(GCD(2, 5))\n",
    "print(LCM(2, 5))\n",
    "print(GCD(2, 10))\n",
    "print(LCM(2, 7))"
   ]
  },
  {
   "cell_type": "markdown",
   "metadata": {},
   "source": [
    "Write a function for identifying palindromic number:"
   ]
  },
  {
   "cell_type": "code",
   "execution_count": 28,
   "metadata": {},
   "outputs": [
    {
     "name": "stdout",
     "output_type": "stream",
     "text": [
      "True\n",
      "False\n"
     ]
    }
   ],
   "source": [
    "def identifyPalindromicNumber(x):\n",
    "    temp = x\n",
    "    reverse = 0\n",
    "    multiplier = 1\n",
    "    while temp >= 10:\n",
    "        reverse = reverse * 10 + temp % 10\n",
    "        temp = temp // 10\n",
    "    reverse = reverse * 10 + temp\n",
    "    if reverse == x:\n",
    "        return True\n",
    "    else:\n",
    "        return False\n",
    "\n",
    "print(identifyPalindromicNumber(12421))\n",
    "print(identifyPalindromicNumber(14521))"
   ]
  },
  {
   "cell_type": "markdown",
   "metadata": {},
   "source": [
    "Write a function for identify prime numbers:"
   ]
  },
  {
   "cell_type": "code",
   "execution_count": 39,
   "metadata": {},
   "outputs": [
    {
     "name": "stdout",
     "output_type": "stream",
     "text": [
      "True\n",
      "True\n",
      "False\n"
     ]
    }
   ],
   "source": [
    "def isPrime(x):\n",
    "    for factor in range(2, x):\n",
    "        if x % factor == 0:\n",
    "            return False\n",
    "    return True if x != 1 else False\n",
    "\n",
    "print(isPrime(2))\n",
    "print(isPrime(7))\n",
    "print(isPrime(10))"
   ]
  },
  {
   "cell_type": "markdown",
   "metadata": {},
   "source": [
    "Write a function for identify palindromic and prime number:"
   ]
  },
  {
   "cell_type": "code",
   "execution_count": 40,
   "metadata": {},
   "outputs": [
    {
     "name": "stdout",
     "output_type": "stream",
     "text": [
      "True\n",
      "True\n"
     ]
    }
   ],
   "source": [
    "def isPrimePalidromic(x):\n",
    "    return isPrime(x) and identifyPalindromicNumber(x)\n",
    "\n",
    "print(isPrimePalidromic(7))\n",
    "print(isPrimePalidromic(11))"
   ]
  }
 ],
 "metadata": {
  "kernelspec": {
   "display_name": "Python 3",
   "language": "python",
   "name": "python3"
  },
  "language_info": {
   "codemirror_mode": {
    "name": "ipython",
    "version": 3
   },
   "file_extension": ".py",
   "mimetype": "text/x-python",
   "name": "python",
   "nbconvert_exporter": "python",
   "pygments_lexer": "ipython3",
   "version": "3.7.6"
  }
 },
 "nbformat": 4,
 "nbformat_minor": 4
}
