{
 "cells": [
  {
   "cell_type": "markdown",
   "metadata": {},
   "source": [
    "# Day 4 of 100"
   ]
  },
  {
   "cell_type": "markdown",
   "metadata": {},
   "source": [
    "## Notes"
   ]
  },
  {
   "cell_type": "markdown",
   "metadata": {},
   "source": [
    "for loop:\n",
    "    \n",
    "    - Combine with function range(), loop certain number of iterations.\n",
    "    - range(a, b, skip_how_many), for example, if skip_how_many = 2,\n",
    "      then it will produce a, a + 2, a + 4...\n",
    "    - Also can be combined with if statements."
   ]
  },
  {
   "cell_type": "markdown",
   "metadata": {},
   "source": [
    "while loop:\n",
    "    \n",
    "    - When the condition is true, then the statements inside the loop will be executed.\n",
    "    - It's worth noting that it's very easy to have infinite loop in while loops.\n",
    "      i.e. the variables are not updated after each iteration."
   ]
  },
  {
   "cell_type": "markdown",
   "metadata": {},
   "source": [
    "stop criteria:\n",
    "\n",
    "    - 'break', stops the current loop structure, need to be careful if have several nested loops.\n",
    "    - 'continue', stops the current iteration, move to the next one."
   ]
  },
  {
   "cell_type": "markdown",
   "metadata": {},
   "source": [
    "## Exercise"
   ]
  },
  {
   "cell_type": "markdown",
   "metadata": {},
   "source": [
    "Identify the input (positive integer) is prime number or not:"
   ]
  },
  {
   "cell_type": "code",
   "execution_count": 17,
   "metadata": {
    "code_folding": []
   },
   "outputs": [
    {
     "name": "stdout",
     "output_type": "stream",
     "text": [
      "Please enter a positive integer: 11\n",
      "11 is prime\n"
     ]
    }
   ],
   "source": [
    "from math import sqrt\n",
    "\n",
    "value = int(input('Please enter a positive integer: '))\n",
    "if value <= 0:\n",
    "    print('Please enter a positive integer, %d is not' % value)\n",
    "else:\n",
    "    is_prime = True\n",
    "    # There is no need to loop through 1 to value,\n",
    "    # sqrt(value) + 1 is enough.\n",
    "    for x in range(2, int(sqrt(value)) + 1):\n",
    "        if value % x == 0:\n",
    "            factor = x\n",
    "            is_prime = False\n",
    "    print('%d is prime' % value) if is_prime else print('%d is not prime, %d is a factor' % (value, factor))"
   ]
  },
  {
   "cell_type": "markdown",
   "metadata": {},
   "source": [
    "Input two positive integers, find GCD and LCM:"
   ]
  },
  {
   "cell_type": "code",
   "execution_count": 16,
   "metadata": {},
   "outputs": [
    {
     "name": "stdout",
     "output_type": "stream",
     "text": [
      "Please enter a positive integer: 3\n",
      "Please enter another positive integer: 10\n",
      "The GCD of 3 and 10 is 1\n",
      "The LCM of 3 and 10 is 30\n"
     ]
    }
   ],
   "source": [
    "from math import sqrt\n",
    "\n",
    "a = int(input('Please enter a positive integer: '))\n",
    "b = int(input('Please enter another positive integer: '))\n",
    "\n",
    "# Initialize gcd and lcm.\n",
    "gcd = 1\n",
    "lcm = a * b\n",
    "\n",
    "# Initialize the variables used in the for loop,\n",
    "# although it's the same as gcd and lcm above,\n",
    "# they meant to be static, \n",
    "# i.e will not be assigned to a different value.\n",
    "gcd_end = min(a, b)\n",
    "lcm_start = a * b\n",
    "\n",
    "# Find gcd.\n",
    "for i in range(1, gcd_end + 1):\n",
    "    if a % i == 0 and b % i == 0:\n",
    "        gcd = i\n",
    "\n",
    "# Find lcm.        \n",
    "for j in range(lcm_start, max(a, b) - 1, -1):\n",
    "    if j % a == 0 and j % b == 0:\n",
    "        lcm = j\n",
    "\n",
    "print('The GCD of %d and %d is %d' % (a, b, gcd))\n",
    "print('The LCM of %d and %d is %d' % (a, b, lcm))"
   ]
  },
  {
   "cell_type": "markdown",
   "metadata": {},
   "source": [
    "print required triangles:"
   ]
  },
  {
   "cell_type": "code",
   "execution_count": 25,
   "metadata": {},
   "outputs": [
    {
     "name": "stdout",
     "output_type": "stream",
     "text": [
      "Please input number of rows for the triangle: 5\n",
      "    *\n",
      "   **\n",
      "  ***\n",
      " ****\n",
      "*****\n",
      "\n",
      "\n",
      "*    \n",
      "**   \n",
      "***  \n",
      "**** \n",
      "*****\n",
      "\n",
      "\n",
      "    *    \n",
      "   ***   \n",
      "  *****  \n",
      " ******* \n",
      "*********\n"
     ]
    }
   ],
   "source": [
    "row_num = int(input('Please input number of rows for the triangle: '))\n",
    "\n",
    "# 90 degrees at right buttom corner.\n",
    "for i in range(row_num):\n",
    "    space = ' ' * (row_num - i - 1)\n",
    "    star = '*' * (i + 1)\n",
    "    print(space + star)\n",
    "# Add a blink line before next print.\n",
    "print('\\n')\n",
    "    \n",
    "# 90 degrees at left buttom corner.\n",
    "for i in range(row_num):\n",
    "    star = '*' * (i + 1)\n",
    "    space = ' ' * (row_num - i - 1)\n",
    "    print(star + space)\n",
    "# Add a blink line before next print.    \n",
    "print('\\n')\n",
    "    \n",
    "# Isosceles triangles.\n",
    "for i in range(row_num):\n",
    "    star = '*' * (1 + 2 * i)\n",
    "    space = ' ' * (row_num - i - 1)\n",
    "    print(space + star + space)"
   ]
  },
  {
   "cell_type": "code",
   "execution_count": null,
   "metadata": {},
   "outputs": [],
   "source": []
  }
 ],
 "metadata": {
  "kernelspec": {
   "display_name": "Python 3",
   "language": "python",
   "name": "python3"
  },
  "language_info": {
   "codemirror_mode": {
    "name": "ipython",
    "version": 3
   },
   "file_extension": ".py",
   "mimetype": "text/x-python",
   "name": "python",
   "nbconvert_exporter": "python",
   "pygments_lexer": "ipython3",
   "version": "3.7.6"
  }
 },
 "nbformat": 4,
 "nbformat_minor": 4
}
