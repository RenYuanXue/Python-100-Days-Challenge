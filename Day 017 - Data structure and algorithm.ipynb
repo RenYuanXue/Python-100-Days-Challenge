{
 "cells": [
  {
   "cell_type": "markdown",
   "metadata": {},
   "source": [
    "# Day 17 of 100"
   ]
  },
  {
   "cell_type": "markdown",
   "metadata": {},
   "source": [
    "## Notes"
   ]
  },
  {
   "cell_type": "markdown",
   "metadata": {},
   "source": [
    "sorting algorithms:\n",
    "    \n",
    "    - Select sort, bubble sort and merge sort."
   ]
  },
  {
   "cell_type": "markdown",
   "metadata": {},
   "source": [
    "searching algorthms:\n",
    "\n",
    "    - Sequence search, bin search."
   ]
  },
  {
   "cell_type": "markdown",
   "metadata": {},
   "source": [
    "enumeration algorithm:\n",
    "\n",
    "    - List all possible outcomes and find desired solution."
   ]
  },
  {
   "cell_type": "code",
   "execution_count": 3,
   "metadata": {},
   "outputs": [
    {
     "name": "stdout",
     "output_type": "stream",
     "text": [
      "0 25 75\n",
      "4 18 78\n",
      "8 11 81\n",
      "12 4 84\n"
     ]
    }
   ],
   "source": [
    "# Three types of cookies, A: 5 dollars per cookie, B: 3 dollars per cookie, C: 1 dollar per 3 cookies.\n",
    "# Spend 100 dolloars to buy 100 of A, B, C 3 types of cookies, how many cookies are there per type?\n",
    "\n",
    "for a in range(20):\n",
    "    for b in range(33):\n",
    "        c = 100 - a - b\n",
    "        if 5 * a + 3 * b + c // 3 == 100 and c % 3 == 0:\n",
    "            print(a, b, c)"
   ]
  },
  {
   "cell_type": "markdown",
   "metadata": {},
   "source": [
    "greedy algorithm:\n",
    "    \n",
    "    - Find best solution given the current situation, not the optimized solution, but a sufficient one."
   ]
  },
  {
   "cell_type": "markdown",
   "metadata": {},
   "source": [
    "divide-and-conquer algorithm:\n",
    "\n",
    "    - Recursively breaks down a problem into two or more sub-problems of the same or related type, until it becomes simple enough to be solved directly. i.e. a base case."
   ]
  },
  {
   "cell_type": "code",
   "execution_count": 5,
   "metadata": {},
   "outputs": [],
   "source": [
    "\"\"\"\n",
    "Quick sort implementation.\n",
    "\"\"\"\n",
    "def quick_sort(items, comp=lambda x, y: x <= y):\n",
    "    items = list(items)[:]\n",
    "    _quick_sort(items, 0, len(items) - 1, comp)\n",
    "    return items\n",
    "\n",
    "\n",
    "def _quick_sort(items, start, end, comp):\n",
    "    if start < end:\n",
    "        pos = _partition(items, start, end, comp)\n",
    "        _quick_sort(items, start, pos - 1, comp)\n",
    "        _quick_sort(items, pos + 1, end, comp)\n",
    "\n",
    "\n",
    "def _partition(items, start, end, comp):\n",
    "    pivot = items[end]\n",
    "    i = start - 1\n",
    "    for j in range(start, end):\n",
    "        if comp(items[j], pivot):\n",
    "            i += 1\n",
    "            items[i], items[j] = items[j], items[i]\n",
    "    items[i + 1], items[end] = items[end], items[i + 1]\n",
    "    return i + 1"
   ]
  },
  {
   "cell_type": "markdown",
   "metadata": {},
   "source": [
    "backtracking algorithm:\n",
    "\n",
    "    - Search forward until previous choice is not good enough or not satisfy certain criteria, then move back one choice.\n",
    "    - One classic example is Knight's tour."
   ]
  },
  {
   "cell_type": "markdown",
   "metadata": {},
   "source": [
    "dynamic programming:\n",
    "    \n",
    "    - A method for solving a complex problem by breaking it down into a collection of simpler subproblems, solving each of those subproblems just once and storing their solutions using a memory-based data structure (array, map, etc)"
   ]
  },
  {
   "cell_type": "code",
   "execution_count": null,
   "metadata": {},
   "outputs": [],
   "source": [
    "# Find the sum of maximum subarray sum.\n",
    "# Instead of O(n^2) the naive approach, this approach is O(n).\n",
    "\n",
    "def main():\n",
    "    items = list(map(int, input().split()))\n",
    "    overall = partial = items[0]\n",
    "    for i in range(1, len(items)):\n",
    "        partial = max(items[i], partial + items[i])\n",
    "        overall = max(partial, overall)\n",
    "    print(overall)\n",
    "\n",
    "if __name__ == '__main__':\n",
    "    main()"
   ]
  }
 ],
 "metadata": {
  "kernelspec": {
   "display_name": "Python 3",
   "language": "python",
   "name": "python3"
  },
  "language_info": {
   "codemirror_mode": {
    "name": "ipython",
    "version": 3
   },
   "file_extension": ".py",
   "mimetype": "text/x-python",
   "name": "python",
   "nbconvert_exporter": "python",
   "pygments_lexer": "ipython3",
   "version": "3.7.6"
  }
 },
 "nbformat": 4,
 "nbformat_minor": 4
}
