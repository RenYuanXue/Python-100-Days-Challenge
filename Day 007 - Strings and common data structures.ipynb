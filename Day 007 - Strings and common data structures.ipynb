{
 "cells": [
  {
   "cell_type": "markdown",
   "metadata": {},
   "source": [
    "# Day 7 of 100"
   ]
  },
  {
   "cell_type": "markdown",
   "metadata": {},
   "source": [
    "## Notes"
   ]
  },
  {
   "cell_type": "markdown",
   "metadata": {},
   "source": [
    "string:\n",
    "    \n",
    "    - Use '' or \"\" around texts to represent strings.\n",
    "    - Within '' or \"\", can use \\ as placeholders, for example \\' or \\\" means the symbol ' or \" in strings.\n",
    "    - https://docs.python.org/3/library/stdtypes.html#string-methods for string methods."
   ]
  },
  {
   "cell_type": "code",
   "execution_count": 10,
   "metadata": {},
   "outputs": [
    {
     "name": "stdout",
     "output_type": "stream",
     "text": [
      "a\n",
      "\n",
      "\n",
      "a\ta\n",
      "abc\n",
      "\\n\\141\\t\n",
      "5 * 10 = 50\n"
     ]
    }
   ],
   "source": [
    "# Exercise of usage of \\ in strings.\n",
    "print('a')\n",
    "print('\\n') # Skip a line.\n",
    "print('a\\ta') # \\t works same as tab.\n",
    "print('\\141\\142\\143') # Octal number system.\n",
    "\n",
    "# Important, if don't want \\ act as placeholder, place r infront.\n",
    "print(r'\\n\\141\\t')\n",
    "\n",
    "# Formating string outputs\n",
    "a, b = 5, 10\n",
    "print(f'{a} * {b} = {a * b}') # Place f in front of the statement."
   ]
  },
  {
   "cell_type": "markdown",
   "metadata": {},
   "source": [
    "list:\n",
    "    \n",
    "    - Common methods: append, remove, insert\n",
    "    - Difference between sort and sorted: sort will modify in place, where sorted returns a copy of a sorted list.\n",
    "    Note that, there are many options in the function sorted."
   ]
  },
  {
   "cell_type": "markdown",
   "metadata": {},
   "source": [
    "Comprehensions and Generator:\n",
    "\n",
    "    - use () to represent generator\n",
    "    - Use comprehensions to generate lists will cost more compare to generator.\n",
    "    A tradeof between space and time. Comprehensions takes more memory, whereas generator takes more time."
   ]
  },
  {
   "cell_type": "code",
   "execution_count": 2,
   "metadata": {},
   "outputs": [
    {
     "name": "stdout",
     "output_type": "stream",
     "text": [
      "912\n",
      "120\n"
     ]
    }
   ],
   "source": [
    "import sys\n",
    "\n",
    "# Example of Comprehensions and generator.\n",
    "\n",
    "# Comprehension. The elements are ready for use.\n",
    "f = [x for x in range(100)]\n",
    "print(sys.getsizeof(f))\n",
    "\n",
    "# Generator. The elements need calculations to grab.\n",
    "f = (x for x in range(100))\n",
    "print(sys.getsizeof(f)) # Much less compare to comprehension."
   ]
  },
  {
   "cell_type": "code",
   "execution_count": 7,
   "metadata": {},
   "outputs": [
    {
     "name": "stdout",
     "output_type": "stream",
     "text": [
      "1\n",
      "1\n",
      "2\n",
      "3\n",
      "5\n",
      "<generator object fib at 0x000001C37A30B5C8>\n"
     ]
    }
   ],
   "source": [
    "# Use yield, can turn functions into generative functions.\n",
    "# In the below example, yield a will put a into a generator,\n",
    "# Therefore when call fib(n), the result will be a generator.\n",
    "\n",
    "def fib(n):\n",
    "    a, b = 0, 1\n",
    "    for _ in range(n):\n",
    "        a, b = b, a + b\n",
    "        yield a\n",
    "\n",
    "# Print first 5 numbers in Fibonacci sequence.       \n",
    "for val in fib(5):\n",
    "    print(val)\n",
    "    \n",
    "# A generator object.\n",
    "print(fib(5))"
   ]
  },
  {
   "cell_type": "markdown",
   "metadata": {},
   "source": [
    "Tuple:\n",
    "\n",
    "    - Tuple is created when you hardcode the values when creating generator.\n",
    "    - The elements in the tuple can't be modified.\n",
    "    - Can use list(), tuple() to convert between list and tuple.\n",
    "    - Since it's much easier to maintain an object that can't be modified, hence we need tuple and list.\n",
    "    - Tuple is much memory and runtime efficient."
   ]
  },
  {
   "cell_type": "markdown",
   "metadata": {},
   "source": [
    "Set:\n",
    "\n",
    "    - Set is created using {}.\n",
    "    - All the elements are unqiue, i.e. doesn't have duplicates.\n",
    "    - Common methods: add, update, discard, remove.\n",
    "    - Can use &, |, -, ^ to represent set operations: intersection, union, difference, symmetric difference."
   ]
  },
  {
   "cell_type": "markdown",
   "metadata": {},
   "source": [
    "Dictionary:\n",
    "\n",
    "    - Modifiable, can store any objects.\n",
    "    - Have keys and values, where values will be returned when you call keys."
   ]
  },
  {
   "cell_type": "markdown",
   "metadata": {},
   "source": [
    "## Exercise"
   ]
  },
  {
   "cell_type": "markdown",
   "metadata": {},
   "source": [
    "Marquee on screen:"
   ]
  },
  {
   "cell_type": "code",
   "execution_count": 13,
   "metadata": {},
   "outputs": [
    {
     "name": "stdout",
     "output_type": "stream",
     "text": [
      " Welcome to Python 100-Day-Challenge\n"
     ]
    },
    {
     "ename": "KeyboardInterrupt",
     "evalue": "",
     "output_type": "error",
     "traceback": [
      "\u001b[1;31m---------------------------------------------------------------------------\u001b[0m",
      "\u001b[1;31mKeyboardInterrupt\u001b[0m                         Traceback (most recent call last)",
      "\u001b[1;32m<ipython-input-13-b87552d3f349>\u001b[0m in \u001b[0;36m<module>\u001b[1;34m\u001b[0m\n\u001b[0;32m     13\u001b[0m         \u001b[0mmessage\u001b[0m \u001b[1;33m=\u001b[0m \u001b[0mmessage\u001b[0m\u001b[1;33m[\u001b[0m\u001b[1;36m1\u001b[0m\u001b[1;33m:\u001b[0m\u001b[1;33m]\u001b[0m \u001b[1;33m+\u001b[0m \u001b[0mmessage\u001b[0m\u001b[1;33m[\u001b[0m\u001b[1;36m0\u001b[0m\u001b[1;33m]\u001b[0m\u001b[1;33m\u001b[0m\u001b[1;33m\u001b[0m\u001b[0m\n\u001b[0;32m     14\u001b[0m \u001b[1;33m\u001b[0m\u001b[0m\n\u001b[1;32m---> 15\u001b[1;33m \u001b[0mMarquee\u001b[0m\u001b[1;33m(\u001b[0m\u001b[1;33m)\u001b[0m\u001b[1;33m\u001b[0m\u001b[1;33m\u001b[0m\u001b[0m\n\u001b[0m",
      "\u001b[1;32m<ipython-input-13-b87552d3f349>\u001b[0m in \u001b[0;36mMarquee\u001b[1;34m()\u001b[0m\n\u001b[0;32m     10\u001b[0m         \u001b[0mprint\u001b[0m\u001b[1;33m(\u001b[0m\u001b[0mmessage\u001b[0m\u001b[1;33m)\u001b[0m\u001b[1;33m\u001b[0m\u001b[1;33m\u001b[0m\u001b[0m\n\u001b[0;32m     11\u001b[0m         \u001b[1;31m# Sleep for 200ms\u001b[0m\u001b[1;33m\u001b[0m\u001b[1;33m\u001b[0m\u001b[1;33m\u001b[0m\u001b[0m\n\u001b[1;32m---> 12\u001b[1;33m         \u001b[0mtime\u001b[0m\u001b[1;33m.\u001b[0m\u001b[0msleep\u001b[0m\u001b[1;33m(\u001b[0m\u001b[1;36m0.2\u001b[0m\u001b[1;33m)\u001b[0m\u001b[1;33m\u001b[0m\u001b[1;33m\u001b[0m\u001b[0m\n\u001b[0m\u001b[0;32m     13\u001b[0m         \u001b[0mmessage\u001b[0m \u001b[1;33m=\u001b[0m \u001b[0mmessage\u001b[0m\u001b[1;33m[\u001b[0m\u001b[1;36m1\u001b[0m\u001b[1;33m:\u001b[0m\u001b[1;33m]\u001b[0m \u001b[1;33m+\u001b[0m \u001b[0mmessage\u001b[0m\u001b[1;33m[\u001b[0m\u001b[1;36m0\u001b[0m\u001b[1;33m]\u001b[0m\u001b[1;33m\u001b[0m\u001b[1;33m\u001b[0m\u001b[0m\n\u001b[0;32m     14\u001b[0m \u001b[1;33m\u001b[0m\u001b[0m\n",
      "\u001b[1;31mKeyboardInterrupt\u001b[0m: "
     ]
    }
   ],
   "source": [
    "import time\n",
    "# Since in IPython, need this to clear output.\n",
    "from IPython.display import clear_output\n",
    "\n",
    "def Marquee():\n",
    "    message = ' Welcome to Python 100-Day-Challenge'\n",
    "    while True:\n",
    "        # Clear the message:\n",
    "        clear_output(wait = True)\n",
    "        print(message)\n",
    "        # Sleep for 200ms\n",
    "        time.sleep(0.2)\n",
    "        message = message[1:] + message[0]\n",
    "\n",
    "Marquee()"
   ]
  },
  {
   "cell_type": "markdown",
   "metadata": {},
   "source": [
    "Generate 4 digit Verification code:"
   ]
  },
  {
   "cell_type": "code",
   "execution_count": 17,
   "metadata": {},
   "outputs": [
    {
     "name": "stdout",
     "output_type": "stream",
     "text": [
      "4V3h\n",
      "69jH\n",
      "zts2\n"
     ]
    }
   ],
   "source": [
    "import random\n",
    "\n",
    "def verificationCode(digit_length = 4):\n",
    "    # Identify the digit would be a number \n",
    "    # or a lowercase character, or a uppercase character.\n",
    "    verification_code = ''\n",
    "    for _ in range(digit_length):\n",
    "        group = random.randint(1, 3)\n",
    "        # If group = 1, a random number.\n",
    "        if group == 1:\n",
    "            verification_code += chr(random.randint(48, 57))\n",
    "        # If group = 2, a lowecase character.\n",
    "        elif group == 2:\n",
    "            verification_code += chr(random.randint(65, 90))\n",
    "        # If group = 3, a uppercase character.\n",
    "        elif group == 3:\n",
    "            verification_code += chr(random.randint(97, 122))\n",
    "    return verification_code\n",
    "\n",
    "print(verificationCode())\n",
    "print(verificationCode())\n",
    "print(verificationCode())"
   ]
  },
  {
   "cell_type": "markdown",
   "metadata": {},
   "source": [
    "Get suffix from files:"
   ]
  },
  {
   "cell_type": "code",
   "execution_count": 19,
   "metadata": {},
   "outputs": [
    {
     "name": "stdout",
     "output_type": "stream",
     "text": [
      "exe\n",
      ".pdf\n"
     ]
    }
   ],
   "source": [
    "def getSuffix(filename, has_dot = False):\n",
    "    pos = filename.rfind('.')\n",
    "    if 0 < pos < len(filename) - 1:\n",
    "        index = pos if has_dot else pos + 1\n",
    "        return filename[index:]\n",
    "    else:\n",
    "        return ''\n",
    "\n",
    "print(getSuffix('game.exe'))\n",
    "print(getSuffix('hasdot.pdf', True))"
   ]
  },
  {
   "cell_type": "markdown",
   "metadata": {},
   "source": [
    "Find two largest values in a list:"
   ]
  },
  {
   "cell_type": "code",
   "execution_count": 24,
   "metadata": {},
   "outputs": [
    {
     "name": "stdout",
     "output_type": "stream",
     "text": [
      "(5, 4)\n",
      "(4, 4)\n"
     ]
    }
   ],
   "source": [
    "import copy\n",
    "\n",
    "# Assumes at least two elements in the list.\n",
    "def findTwoMax(lst):\n",
    "    copyed = copy.deepcopy(lst)\n",
    "    first = max(copyed)\n",
    "    copyed.remove(first)\n",
    "    second = max(copyed)\n",
    "    return first, second\n",
    "\n",
    "print(findTwoMax([1,2,3,4,5]))\n",
    "print(findTwoMax([1,2,3,4,4]))"
   ]
  }
 ],
 "metadata": {
  "kernelspec": {
   "display_name": "Python 3",
   "language": "python",
   "name": "python3"
  },
  "language_info": {
   "codemirror_mode": {
    "name": "ipython",
    "version": 3
   },
   "file_extension": ".py",
   "mimetype": "text/x-python",
   "name": "python",
   "nbconvert_exporter": "python",
   "pygments_lexer": "ipython3",
   "version": "3.7.6"
  }
 },
 "nbformat": 4,
 "nbformat_minor": 4
}
