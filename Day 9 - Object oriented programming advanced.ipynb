{
 "cells": [
  {
   "cell_type": "markdown",
   "metadata": {},
   "source": [
    "# Day 9 of 100"
   ]
  },
  {
   "cell_type": "markdown",
   "metadata": {},
   "source": [
    "## Notes"
   ]
  },
  {
   "cell_type": "markdown",
   "metadata": {},
   "source": [
    "@property:\n",
    "    \n",
    "    - Used to access / modify the attributes\n",
    "    - if @property for a attribute, then it can be accessed.\n",
    "    - if @attribute_name.setter for a attribute, then it can be modified."
   ]
  },
  {
   "cell_type": "code",
   "execution_count": 7,
   "metadata": {},
   "outputs": [
    {
     "name": "stdout",
     "output_type": "stream",
     "text": [
      "A正在玩飞行棋.\n",
      "A正在玩斗地主.\n"
     ]
    },
    {
     "ename": "AttributeError",
     "evalue": "can't set attribute",
     "output_type": "error",
     "traceback": [
      "\u001b[1;31m---------------------------------------------------------------------------\u001b[0m",
      "\u001b[1;31mAttributeError\u001b[0m                            Traceback (most recent call last)",
      "\u001b[1;32m<ipython-input-7-46de75c486cd>\u001b[0m in \u001b[0;36m<module>\u001b[1;34m\u001b[0m\n\u001b[0;32m     38\u001b[0m \u001b[1;33m\u001b[0m\u001b[0m\n\u001b[0;32m     39\u001b[0m \u001b[1;32mif\u001b[0m \u001b[0m__name__\u001b[0m \u001b[1;33m==\u001b[0m \u001b[1;34m'__main__'\u001b[0m\u001b[1;33m:\u001b[0m\u001b[1;33m\u001b[0m\u001b[1;33m\u001b[0m\u001b[0m\n\u001b[1;32m---> 40\u001b[1;33m     \u001b[0mmain\u001b[0m\u001b[1;33m(\u001b[0m\u001b[1;33m)\u001b[0m\u001b[1;33m\u001b[0m\u001b[1;33m\u001b[0m\u001b[0m\n\u001b[0m",
      "\u001b[1;32m<ipython-input-7-46de75c486cd>\u001b[0m in \u001b[0;36mmain\u001b[1;34m()\u001b[0m\n\u001b[0;32m     34\u001b[0m     \u001b[0mperson\u001b[0m\u001b[1;33m.\u001b[0m\u001b[0mplay\u001b[0m\u001b[1;33m(\u001b[0m\u001b[1;33m)\u001b[0m\u001b[1;33m\u001b[0m\u001b[1;33m\u001b[0m\u001b[0m\n\u001b[0;32m     35\u001b[0m     \u001b[0mperson\u001b[0m\u001b[1;33m.\u001b[0m\u001b[0msome_attribute\u001b[0m \u001b[1;33m=\u001b[0m \u001b[1;32mTrue\u001b[0m\u001b[1;33m\u001b[0m\u001b[1;33m\u001b[0m\u001b[0m\n\u001b[1;32m---> 36\u001b[1;33m     \u001b[0mperson\u001b[0m\u001b[1;33m.\u001b[0m\u001b[0mname\u001b[0m \u001b[1;33m=\u001b[0m \u001b[1;34m'B'\u001b[0m \u001b[1;31m# This returns a error, since attribute doesn't have setter.\u001b[0m\u001b[1;33m\u001b[0m\u001b[1;33m\u001b[0m\u001b[0m\n\u001b[0m\u001b[0;32m     37\u001b[0m \u001b[1;33m\u001b[0m\u001b[0m\n\u001b[0;32m     38\u001b[0m \u001b[1;33m\u001b[0m\u001b[0m\n",
      "\u001b[1;31mAttributeError\u001b[0m: can't set attribute"
     ]
    }
   ],
   "source": [
    "# @property example:\n",
    "\n",
    "class Person(object):\n",
    "    \n",
    "    def __init__(self, name, age):\n",
    "        self._name = name\n",
    "        self._age = age\n",
    "    \n",
    "    # Attribute_name as function name (getter).\n",
    "    @property\n",
    "    def name(self):\n",
    "        return self._name\n",
    "    \n",
    "    # Attribute_name as function name (getter).\n",
    "    @property\n",
    "    def age(self):\n",
    "        return self._age\n",
    "    \n",
    "    # Property setter.\n",
    "    @age.setter\n",
    "    def age(self, age):\n",
    "        self._age = age\n",
    "        \n",
    "    def play(self):\n",
    "        if self._age <= 16:\n",
    "            print('%s正在玩飞行棋.' % self._name)\n",
    "        else:\n",
    "            print('%s正在玩斗地主.' % self._name)\n",
    "\n",
    "def main():\n",
    "    person = Person('A', 12)\n",
    "    person.play()\n",
    "    person.age = 22 # This corresponds to age.setter\n",
    "    person.play()\n",
    "    person.some_attribute = True\n",
    "    person.name = 'B' # This returns a error, since attribute doesn't have setter.\n",
    "    \n",
    "    \n",
    "if __name__ == '__main__':\n",
    "    main()"
   ]
  },
  {
   "cell_type": "markdown",
   "metadata": {},
   "source": [
    "__slots__:\n",
    "    \n",
    "    - Since Python is a dynamic language, in the above example, though \"some_attribute\" is not defined in the code, it can still be created. In order to solve this problem, we can limit the attributes using __slots__"
   ]
  },
  {
   "cell_type": "code",
   "execution_count": null,
   "metadata": {},
   "outputs": [],
   "source": [
    "class Person(object):\n",
    "    \n",
    "    # Limit Person class to have only 2 attributes\n",
    "    __slot__ = ('_name', '_age')\n",
    "    \n",
    "    def __init__(self, name, age):\n",
    "        self._name = name\n",
    "        self._age = age\n",
    "    \n",
    "    # Attribute_name as function name (getter).\n",
    "    @property\n",
    "    def name(self):\n",
    "        return self._name\n",
    "    \n",
    "    # Attribute_name as function name (getter).\n",
    "    @property\n",
    "    def age(self):\n",
    "        return self._age\n",
    "    \n",
    "    # Property setter.\n",
    "    @age.setter\n",
    "    def age(self, age):\n",
    "        self._age = age\n",
    "        \n",
    "    def play(self):\n",
    "        if self._age <= 16:\n",
    "            print('%s正在玩飞行棋.' % self._name)\n",
    "        else:\n",
    "            print('%s正在玩斗地主.' % self._name)"
   ]
  },
  {
   "cell_type": "markdown",
   "metadata": {},
   "source": [
    "staticmethod:\n",
    "\n",
    "    - All the methods we defined in the class are sending to the object itself. However, not all methods need to be object methods. For example, when define a class Triangle and send three lengths. We can check the three lengths satisfy a triangle or not, clearly that's not a object method, since Triangle is not yet created at this point."
   ]
  },
  {
   "cell_type": "code",
   "execution_count": 11,
   "metadata": {},
   "outputs": [
    {
     "name": "stdout",
     "output_type": "stream",
     "text": [
      "12\n",
      "12\n"
     ]
    }
   ],
   "source": [
    "from math import sqrt\n",
    "\n",
    "\n",
    "class Triangle(object):\n",
    "\n",
    "    def __init__(self, a, b, c):\n",
    "        self._a = a\n",
    "        self._b = b\n",
    "        self._c = c\n",
    "    \n",
    "    # Check the triangle is valid or not.\n",
    "    @staticmethod\n",
    "    def is_valid(a, b, c):\n",
    "        return a + b > c and b + c > a and a + c > b\n",
    "\n",
    "    def perimeter(self):\n",
    "        return self._a + self._b + self._c\n",
    "    \n",
    "def main():\n",
    "    a, b, c = 3, 4, 5\n",
    "    if Triangle.is_valid(a, b, c):\n",
    "        triangle = Triangle(a, b, c)\n",
    "        print(triangle.perimeter())\n",
    "        # This is also callable.\n",
    "        print(Triangle.perimeter(triangle))\n",
    "    else:\n",
    "        print(\"Cant't form a triangle.\")\n",
    "    \n",
    "if __name__ == '__main__':\n",
    "    main()"
   ]
  },
  {
   "cell_type": "markdown",
   "metadata": {},
   "source": [
    "classmethod:\n",
    "\n",
    "    - Similiar to staticmethod, we can get information needed to form a instance of class and create the object.\n",
    "    - The first variable passed in ust be cls."
   ]
  },
  {
   "cell_type": "code",
   "execution_count": 18,
   "metadata": {},
   "outputs": [
    {
     "name": "stdout",
     "output_type": "stream",
     "text": [
      "12\n",
      "12\n"
     ]
    }
   ],
   "source": [
    "from math import sqrt\n",
    "\n",
    "\n",
    "class Triangle(object):\n",
    "\n",
    "    def __init__(self, a, b, c):\n",
    "        self._a = a\n",
    "        self._b = b\n",
    "        self._c = c\n",
    "    \n",
    "    # Check the triangle is valid or not.\n",
    "    @staticmethod\n",
    "    def is_valid(a, b, c):\n",
    "        return a + b > c and b + c > a and a + c > b\n",
    "    \n",
    "    @classmethod\n",
    "    def create_now(cls):\n",
    "        a, b, c = 3, 4, 5\n",
    "        return cls(a, b, c)\n",
    "\n",
    "    def perimeter(self):\n",
    "        return self._a + self._b + self._c\n",
    "    \n",
    "def main():\n",
    "    t = Triangle.create_now()\n",
    "    print(t.perimeter())\n",
    "    print(Triangle.perimeter(t))\n",
    "    \n",
    "if __name__ == '__main__':\n",
    "    main()"
   ]
  },
  {
   "cell_type": "markdown",
   "metadata": {},
   "source": [
    "class relationships:\n",
    "\n",
    "    - Generally, it has 3 types of relationships between classes. is-a, has-a and use-a.\n",
    "    - is-a is also called inheritance or generalization. For example, the relationship between student and person.\n",
    "    - has-a is commonly called composition. Fpr example, the relationship between a branch and employee.\n",
    "    - use-a. For example, driver has a method called 'Drive' and one of the parameter uses class car. Then driver and car has 'use-a' relationship."
   ]
  },
  {
   "cell_type": "markdown",
   "metadata": {},
   "source": [
    "Inheritance:\n",
    "\n",
    "    - We can have a super class to provide inheritance information for sub classes. The sub class can inherit attributes and methods from super class, also it can has own unique attributes and method."
   ]
  },
  {
   "cell_type": "code",
   "execution_count": 19,
   "metadata": {},
   "outputs": [
    {
     "name": "stdout",
     "output_type": "stream",
     "text": [
      "9th grade A is studying Math.\n",
      "A is watching cartoon.\n"
     ]
    }
   ],
   "source": [
    "class Person(object):\n",
    "\n",
    "    def __init__(self, name, age):\n",
    "        self._name = name\n",
    "        self._age = age\n",
    "\n",
    "    @property\n",
    "    def name(self):\n",
    "        return self._name\n",
    "\n",
    "    @property\n",
    "    def age(self):\n",
    "        return self._age\n",
    "\n",
    "    @age.setter\n",
    "    def age(self, age):\n",
    "        self._age = age\n",
    "\n",
    "    def watch_tv(self):\n",
    "        if self._age >= 18:\n",
    "            print('%s is watching anime.' % self._name)\n",
    "        else:\n",
    "            print('%s is watching cartoon.' % self._name)\n",
    "\n",
    "# Notice the Person here.\n",
    "class Student(Person):\n",
    "\n",
    "    def __init__(self, name, age, grade):\n",
    "        # Inherit name and age from person.\n",
    "        super().__init__(name, age)\n",
    "        self._grade = grade\n",
    "    \n",
    "    # Don't need to set properties in the super set.\n",
    "    @property\n",
    "    def grade(self):\n",
    "        return self._grade\n",
    "\n",
    "    @grade.setter\n",
    "    def grade(self, grade):\n",
    "        self._grade = grade\n",
    "\n",
    "    def study(self, course):\n",
    "        print('%s %s is studying %s.' % (self._grade, self._name, course))\n",
    "\n",
    "def main():\n",
    "    stu = Student('Alex', 15, '9th grade')\n",
    "    stu.study('Math')\n",
    "    # We can call methods in person.\n",
    "    stu.watch_tv()\n",
    "\n",
    "if __name__ == '__main__':\n",
    "    main()"
   ]
  },
  {
   "cell_type": "markdown",
   "metadata": {},
   "source": [
    "poly-morphism:\n",
    "    \n",
    "    - After inherited the information from super class. The sub classes can override methods in super class. So, in different sub classes, same method in super class are act differently."
   ]
  },
  {
   "cell_type": "code",
   "execution_count": 21,
   "metadata": {},
   "outputs": [
    {
     "name": "stdout",
     "output_type": "stream",
     "text": [
      "A: wang wang wang...\n",
      "B: miao...miao...\n",
      "C: wang wang wang...\n"
     ]
    }
   ],
   "source": [
    "from abc import ABCMeta, abstractmethod\n",
    "\n",
    "# Pet class is a abstract class. Meaning that the Pet is a class that can't create objects.\n",
    "# The existance of Pet is for sub classes to inherit. In this case, Dog and Cat.\n",
    "\n",
    "class Pet(object, metaclass=ABCMeta):\n",
    "\n",
    "    def __init__(self, nickname):\n",
    "        self._nickname = nickname\n",
    "\n",
    "    @abstractmethod\n",
    "    def make_voice(self):\n",
    "        pass\n",
    "\n",
    "# Notice that we don't need to inherit nickname.\n",
    "class Dog(Pet):\n",
    "\n",
    "    def make_voice(self):\n",
    "        print('%s: wang wang wang...' % self._nickname)\n",
    "\n",
    "# Notice that we don't need to inherit nickname.\n",
    "class Cat(Pet):\n",
    "\n",
    "    def make_voice(self):\n",
    "        print('%s: miao...miao...' % self._nickname)\n",
    "\n",
    "\n",
    "def main():\n",
    "    pets = [Dog('A'), Cat('B'), Dog('C')]\n",
    "    for pet in pets:\n",
    "        # make_voice is defined in abstract super class Pet.\n",
    "        # However it act differently in Cat and Dog.\n",
    "        pet.make_voice()\n",
    "\n",
    "if __name__ == '__main__':\n",
    "    main()"
   ]
  }
 ],
 "metadata": {
  "kernelspec": {
   "display_name": "Python 3",
   "language": "python",
   "name": "python3"
  },
  "language_info": {
   "codemirror_mode": {
    "name": "ipython",
    "version": 3
   },
   "file_extension": ".py",
   "mimetype": "text/x-python",
   "name": "python",
   "nbconvert_exporter": "python",
   "pygments_lexer": "ipython3",
   "version": "3.7.6"
  }
 },
 "nbformat": 4,
 "nbformat_minor": 4
}
