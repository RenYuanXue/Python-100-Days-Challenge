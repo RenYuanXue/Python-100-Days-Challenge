{
 "cells": [
  {
   "cell_type": "markdown",
   "metadata": {},
   "source": [
    "# Day 2 of 100"
   ]
  },
  {
   "cell_type": "markdown",
   "metadata": {},
   "source": [
    "## Notes"
   ]
  },
  {
   "cell_type": "markdown",
   "metadata": {},
   "source": [
    "Naming Rules (PEP 8 Requirements):\n",
    "    \n",
    "    - case sensitive\n",
    "    - use \"_\" to connect words, all words are lower_cased\n",
    "    - use \"_\" for protected functions\n",
    "    - use \"__\" for private functions\n"
   ]
  },
  {
   "cell_type": "markdown",
   "metadata": {},
   "source": [
    "Function to convert types:\n",
    "    \n",
    "    - str()\n",
    "    - float()\n",
    "    - int()\n",
    "    - chr() # Convert integer to ASCII character\n",
    "    - ord() # Convert ASCII character to integer"
   ]
  },
  {
   "cell_type": "markdown",
   "metadata": {},
   "source": [
    "Placeholder:"
   ]
  },
  {
   "cell_type": "code",
   "execution_count": 1,
   "metadata": {},
   "outputs": [
    {
     "name": "stdout",
     "output_type": "stream",
     "text": [
      "10 % 5 = 0\n"
     ]
    }
   ],
   "source": [
    "# % is a placeholder and %% represents \"%\"\n",
    "# Moreover, %d is placeholder for integers, \n",
    "# %f is placeholder for floats.\n",
    "\n",
    "a = 10\n",
    "b = 5\n",
    "print('%d %% %d = %d' % (a, b, a % b))"
   ]
  },
  {
   "cell_type": "markdown",
   "metadata": {},
   "source": [
    "## Exercise"
   ]
  },
  {
   "cell_type": "markdown",
   "metadata": {},
   "source": [
    "Temperature Conversion:"
   ]
  },
  {
   "cell_type": "code",
   "execution_count": 4,
   "metadata": {},
   "outputs": [
    {
     "name": "stdout",
     "output_type": "stream",
     "text": [
      "Fahrenheit = 10\n",
      "Centigrade = -12.222222\n"
     ]
    }
   ],
   "source": [
    "# Calculate equivalent Centigrade for given Fahrenheit.\n",
    "fahrenheit = float(input('Fahrenheit = '))\n",
    "centigrade = (fahrenheit - 32) / 1.8\n",
    "print('Centigrade = %f' % centigrade)"
   ]
  },
  {
   "cell_type": "markdown",
   "metadata": {},
   "source": [
    "Input radius, calculate perimeter and area:"
   ]
  },
  {
   "cell_type": "code",
   "execution_count": 6,
   "metadata": {},
   "outputs": [
    {
     "name": "stdout",
     "output_type": "stream",
     "text": [
      "Radius = 10\n",
      "Perimeter = 62.831853\n",
      "Area = 314.159265\n"
     ]
    }
   ],
   "source": [
    "import numpy as np\n",
    "radius = float(input('Radius = '))\n",
    "print('Perimeter = %f' % (radius * np.pi * 2))\n",
    "print('Area = %f' % (radius * radius * np.pi))"
   ]
  },
  {
   "cell_type": "markdown",
   "metadata": {},
   "source": [
    "Input year, identify it's leap year or not:"
   ]
  },
  {
   "cell_type": "code",
   "execution_count": 10,
   "metadata": {},
   "outputs": [
    {
     "name": "stdout",
     "output_type": "stream",
     "text": [
      "The year is 1900\n",
      "1900 is not leap year\n"
     ]
    }
   ],
   "source": [
    "year = int(input('The year is '))\n",
    "# Alternatively, we can assign is_leap = expression.\n",
    "is_leap = False\n",
    "if year % 4 == 0 and year % 100 != 0 or year % 400 == 0:\n",
    "    is_leap = True\n",
    "print('%d is leap year' % year) if is_leap else print('%d is not leap year' % year)"
   ]
  }
 ],
 "metadata": {
  "kernelspec": {
   "display_name": "Python 3",
   "language": "python",
   "name": "python3"
  },
  "language_info": {
   "codemirror_mode": {
    "name": "ipython",
    "version": 3
   },
   "file_extension": ".py",
   "mimetype": "text/x-python",
   "name": "python",
   "nbconvert_exporter": "python",
   "pygments_lexer": "ipython3",
   "version": "3.7.6"
  }
 },
 "nbformat": 4,
 "nbformat_minor": 4
}
