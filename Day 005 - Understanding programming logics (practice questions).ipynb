{
 "cells": [
  {
   "cell_type": "markdown",
   "metadata": {},
   "source": [
    "# Day 5 of 100"
   ]
  },
  {
   "cell_type": "markdown",
   "metadata": {},
   "source": [
    "## Exercise"
   ]
  },
  {
   "cell_type": "markdown",
   "metadata": {},
   "source": [
    "Find Narcissistic number (3 digit number where the sum of each digit cubed is itself):"
   ]
  },
  {
   "cell_type": "code",
   "execution_count": 5,
   "metadata": {},
   "outputs": [
    {
     "name": "stdout",
     "output_type": "stream",
     "text": [
      "153\n",
      "370\n",
      "371\n",
      "407\n"
     ]
    }
   ],
   "source": [
    "for value in range(100, 1000):\n",
    "    first_digit = value // 100 # \"//\" for quotient, \"/\" is exact.\n",
    "    second_digit = (value % 100) // 10\n",
    "    last_digit = value % 10\n",
    "    if first_digit ** 3 + second_digit ** 3 + last_digit ** 3 == value:\n",
    "        print(value)"
   ]
  },
  {
   "cell_type": "markdown",
   "metadata": {},
   "source": [
    "百鸡问题:"
   ]
  },
  {
   "cell_type": "code",
   "execution_count": 6,
   "metadata": {},
   "outputs": [
    {
     "name": "stdout",
     "output_type": "stream",
     "text": [
      "0 25 75\n",
      "4 18 78\n",
      "8 11 81\n",
      "12 4 84\n"
     ]
    }
   ],
   "source": [
    "for x in range(20):\n",
    "    for y in range(33):\n",
    "        z = 100 - x - y\n",
    "        if 5 * x + 3 * y + z / 3 == 100:\n",
    "            print('%d %d %d' % (x, y, z))"
   ]
  },
  {
   "cell_type": "markdown",
   "metadata": {},
   "source": [
    "Find first 20 numbers in Fibonacci sequence. "
   ]
  },
  {
   "cell_type": "code",
   "execution_count": 10,
   "metadata": {},
   "outputs": [
    {
     "name": "stdout",
     "output_type": "stream",
     "text": [
      "2\n",
      "3\n",
      "5\n",
      "8\n",
      "13\n",
      "21\n",
      "34\n",
      "55\n",
      "89\n",
      "144\n",
      "233\n",
      "377\n",
      "610\n",
      "987\n",
      "1597\n",
      "2584\n",
      "4181\n",
      "6765\n"
     ]
    }
   ],
   "source": [
    "prior = 1\n",
    "current = 1\n",
    "print(prior)\n",
    "print(current)\n",
    "for _ in range(18):\n",
    "    current = prior + current\n",
    "    prior = current - prior\n",
    "    print(current)"
   ]
  },
  {
   "cell_type": "markdown",
   "metadata": {},
   "source": [
    "Find perfect numbers in 10,000:"
   ]
  },
  {
   "cell_type": "code",
   "execution_count": 13,
   "metadata": {},
   "outputs": [
    {
     "name": "stdout",
     "output_type": "stream",
     "text": [
      "6\n",
      "28\n",
      "496\n",
      "8128\n"
     ]
    }
   ],
   "source": [
    "from math import sqrt\n",
    "for num in range(1, 10000):\n",
    "    total = 0\n",
    "    for factor in range(1, num):\n",
    "        if num % factor == 0:\n",
    "            total = total + factor\n",
    "    if total == num:\n",
    "        print(num)"
   ]
  },
  {
   "cell_type": "markdown",
   "metadata": {},
   "source": [
    "Find prime numbers in 100:"
   ]
  },
  {
   "cell_type": "code",
   "execution_count": 15,
   "metadata": {},
   "outputs": [
    {
     "name": "stdout",
     "output_type": "stream",
     "text": [
      "2\n",
      "3\n",
      "5\n",
      "7\n",
      "11\n",
      "13\n",
      "17\n",
      "19\n",
      "23\n",
      "29\n",
      "31\n",
      "37\n",
      "41\n",
      "43\n",
      "47\n",
      "53\n",
      "59\n",
      "61\n",
      "67\n",
      "71\n",
      "73\n",
      "79\n",
      "83\n",
      "89\n",
      "97\n"
     ]
    }
   ],
   "source": [
    "for num in range(1, 100):\n",
    "    count = 0\n",
    "    for factor in range(1, num + 1):\n",
    "        if num % factor == 0:\n",
    "            count += 1\n",
    "    if count == 2:\n",
    "        print(num)"
   ]
  }
 ],
 "metadata": {
  "kernelspec": {
   "display_name": "Python 3",
   "language": "python",
   "name": "python3"
  },
  "language_info": {
   "codemirror_mode": {
    "name": "ipython",
    "version": 3
   },
   "file_extension": ".py",
   "mimetype": "text/x-python",
   "name": "python",
   "nbconvert_exporter": "python",
   "pygments_lexer": "ipython3",
   "version": "3.7.6"
  }
 },
 "nbformat": 4,
 "nbformat_minor": 4
}
