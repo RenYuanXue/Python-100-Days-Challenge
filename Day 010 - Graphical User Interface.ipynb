{
 "cells": [
  {
   "cell_type": "markdown",
   "metadata": {},
   "source": [
    "# Day 10 of 100"
   ]
  },
  {
   "cell_type": "markdown",
   "metadata": {},
   "source": [
    "## Notes"
   ]
  },
  {
   "cell_type": "markdown",
   "metadata": {},
   "source": [
    "GUI Modules:\n",
    "    \n",
    "    - Default module is tkinter.\n",
    "    - Not the best idea to use Python for GUI, but there are modules such as wxPython, PyQt, PyGTK."
   ]
  },
  {
   "cell_type": "markdown",
   "metadata": {},
   "source": [
    "How to use tkinter for GUI applications:\n",
    "\n",
    "    - 1. Import tkinter module.\n",
    "    - 2. Create a window object for carrying the GUI application.\n",
    "    - 3. Add GUI Components to the object.\n",
    "    - 4. Use code to organize the functionalities of GUI components.\n",
    "    - 5. Enter main loop."
   ]
  },
  {
   "cell_type": "code",
   "execution_count": null,
   "metadata": {},
   "outputs": [],
   "source": [
    "import tkinter\n",
    "import tkinter.messagebox\n",
    "\n",
    "\n",
    "def main():\n",
    "    flag = True\n",
    "\n",
    "    # Switch text.\n",
    "    def change_label_text():\n",
    "        nonlocal flag\n",
    "        flag = not flag\n",
    "        color, msg = ('red', 'Hello, world!')\\\n",
    "            if flag else ('blue', 'Goodbye, world!')\n",
    "        label.config(text=msg, fg=color)\n",
    "\n",
    "    # Confirm to quit application.\n",
    "    def confirm_to_quit():\n",
    "        if tkinter.messagebox.askokcancel('Warning', 'You are about to leave the window.'):\n",
    "            top.quit()\n",
    "\n",
    "    # Create window.\n",
    "    top = tkinter.Tk()\n",
    "    # Set window size.\n",
    "    top.geometry('240x160')\n",
    "    # Set window title.\n",
    "    top.title('Game')\n",
    "    # Create label object and add to the window.\n",
    "    label = tkinter.Label(top, text='Hello, world!', font='Arial -32', fg='red')\n",
    "    label.pack(expand=1)\n",
    "    # Create a container for button\n",
    "    panel = tkinter.Frame(top)\n",
    "    # Create button object, assign to container, use command parameter to assign events.\n",
    "    button1 = tkinter.Button(panel, text='Change', command=change_label_text)\n",
    "    button1.pack(side='left')\n",
    "    button2 = tkinter.Button(panel, text='Exit', command=confirm_to_quit)\n",
    "    button2.pack(side='right')\n",
    "    panel.pack(side='bottom')\n",
    "    # Open main event loop.\n",
    "    tkinter.mainloop()\n",
    "\n",
    "\n",
    "if __name__ == '__main__':\n",
    "    main()"
   ]
  },
  {
   "cell_type": "markdown",
   "metadata": {},
   "source": [
    "Pygame:\n",
    "\n",
    "    - Open sourced Python module. Used for game development.\n",
    "    - Build on SDL, which is a cross platform mutlimedia library, C++.\n",
    "    - Pygames allow developers focus on the functionality and logic of the game."
   ]
  },
  {
   "cell_type": "markdown",
   "metadata": {},
   "source": [
    "See https://github.com/jackfrued/Python-100-Days/blob/master/Day01-15/10.%E5%9B%BE%E5%BD%A2%E7%94%A8%E6%88%B7%E7%95%8C%E9%9D%A2%E5%92%8C%E6%B8%B8%E6%88%8F%E5%BC%80%E5%8F%91.md for implementation of the following.\n",
    "- Make the game window.\n",
    "- Drawing in the window.\n",
    "- Load pictures.\n",
    "- Implement animation.\n",
    "- Collision detection.\n",
    "- Event handling."
   ]
  }
 ],
 "metadata": {
  "kernelspec": {
   "display_name": "Python 3",
   "language": "python",
   "name": "python3"
  },
  "language_info": {
   "codemirror_mode": {
    "name": "ipython",
    "version": 3
   },
   "file_extension": ".py",
   "mimetype": "text/x-python",
   "name": "python",
   "nbconvert_exporter": "python",
   "pygments_lexer": "ipython3",
   "version": "3.7.6"
  }
 },
 "nbformat": 4,
 "nbformat_minor": 4
}
